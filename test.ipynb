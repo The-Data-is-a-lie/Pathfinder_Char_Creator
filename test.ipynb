{
 "cells": [
  {
   "cell_type": "code",
   "execution_count": 7,
   "metadata": {},
   "outputs": [
    {
     "name": "stdout",
     "output_type": "stream",
     "text": [
      "Redis server is not running. Please start Redis server.\n"
     ]
    }
   ],
   "source": [
    "# # To run this you either need to go into CMD or terminal (after typing C:\\Python312) and enter this set PYTHONPATH=C:\\Python312\\Lib\\site-packages (because it makes sure we use the right location)\n",
    "\n",
    "from flask import Flask, render_template, request, jsonify, session, abort\n",
    "from flask_cors import CORS\n",
    "from flask_session import Session\n",
    "import os\n",
    "import redis\n",
    "from Backend.start_py import create_app, SECRET_KEY\n",
    "\n",
    "\n",
    "app = create_app()\n",
    "# app = Flask(__name__)\n",
    "# app.secret_key = SECRET_KEY\n",
    "CORS(app, supports_credentials=True, origins=\"*\", methods=[\"GET\", \"POST\", \"PUT\", \"DELETE\"], allow_headers=[\"*\"])\n",
    "app.config['SECRET_KEY'] = SECRET_KEY\n",
    "app.config['SESSION_TYPE'] = 'redis'\n",
    "app.config['SESSION_KEY_PREFIX'] = 'pathfinder_char_creator:'  # Helps avoid key collisions\n",
    "app.config['SESSION_COOKIE_SECURE'] = False \n",
    "app.config['SESSION_COOKIE_SAMESITE'] = 'None'  # Set SameSite attribute to None\n",
    "app.config['SESSION_REDIS'] = redis.StrictRedis(host='localhost', port=6379, decode_responses=True)\n",
    "r = redis.StrictRedis(host='localhost', port=6379, decode_responses=True)\n",
    "try:\n",
    "    response = r.ping()  # Should return 'PONG' if Redis is working\n",
    "    print(\"Redis response:\", response)\n",
    "except redis.ConnectionError:\n",
    "    print(\"Redis server is not running. Please start Redis server.\")"
   ]
  },
  {
   "cell_type": "code",
   "execution_count": null,
   "metadata": {},
   "outputs": [],
   "source": []
  }
 ],
 "metadata": {
  "kernelspec": {
   "display_name": ".venv",
   "language": "python",
   "name": "python3"
  },
  "language_info": {
   "codemirror_mode": {
    "name": "ipython",
    "version": 3
   },
   "file_extension": ".py",
   "mimetype": "text/x-python",
   "name": "python",
   "nbconvert_exporter": "python",
   "pygments_lexer": "ipython3",
   "version": "3.10.11"
  }
 },
 "nbformat": 4,
 "nbformat_minor": 2
}
